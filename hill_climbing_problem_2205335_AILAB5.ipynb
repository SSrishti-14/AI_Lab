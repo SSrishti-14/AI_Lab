{
  "nbformat": 4,
  "nbformat_minor": 0,
  "metadata": {
    "colab": {
      "provenance": [],
      "authorship_tag": "ABX9TyPwARTExpOZOx4cHsUGBH5+",
      "include_colab_link": true
    },
    "kernelspec": {
      "name": "python3",
      "display_name": "Python 3"
    },
    "language_info": {
      "name": "python"
    }
  },
  "cells": [
    {
      "cell_type": "markdown",
      "metadata": {
        "id": "view-in-github",
        "colab_type": "text"
      },
      "source": [
        "<a href=\"https://colab.research.google.com/github/SSrishti-14/AI_Lab/blob/main/hill_climbing_problem_2205335_AILAB5.ipynb\" target=\"_parent\"><img src=\"https://colab.research.google.com/assets/colab-badge.svg\" alt=\"Open In Colab\"/></a>"
      ]
    },
    {
      "cell_type": "code",
      "source": [
        "# Hill Climbing for Solving Optimization Problems\n",
        "import random\n",
        "\n",
        "# Function to calculate the heuristic value (objective function)\n",
        "def calculate_heuristic(state):\n",
        "    \"\"\"\n",
        "    Calculates the value of the function F2(X) = sum(|x_i|) + prod(|x_i|) for a given state.\n",
        "    Since we aim to minimize this function, we return the negative value.\n",
        "    \"\"\"\n",
        "    abs_values = [abs(x) for x in state]\n",
        "    sum_abs = sum(abs_values)\n",
        "    prod_abs = 1\n",
        "    for x in abs_values:\n",
        "        prod_abs *= x\n",
        "    return -(sum_abs + prod_abs)  # Negative for maximization in Hill Climbing\n",
        "\n",
        "# Function to generate neighboring states\n",
        "def get_neighbors(state):\n",
        "    \"\"\"\n",
        "    Generates neighboring states by slightly modifying each element in the state.\n",
        "    \"\"\"\n",
        "    neighbors = []\n",
        "    delta = 1  # Step size for generating neighbors\n",
        "    for i in range(len(state)):\n",
        "        # Create two neighbors: one increasing and one decreasing the current value\n",
        "        neighbor_increase = state[:]\n",
        "        neighbor_increase[i] += delta\n",
        "        neighbors.append(neighbor_increase)\n",
        "\n",
        "        neighbor_decrease = state[:]\n",
        "        neighbor_decrease[i] -= delta\n",
        "        neighbors.append(neighbor_decrease)\n",
        "    return neighbors\n",
        "\n",
        "# Hill Climbing algorithm\n",
        "def hill_climbing(initial_state):\n",
        "    \"\"\"\n",
        "    Performs the Hill Climbing algorithm starting from the initial state.\n",
        "    \"\"\"\n",
        "    current_state = initial_state\n",
        "    current_heuristic = calculate_heuristic(current_state)\n",
        "\n",
        "    while True:\n",
        "        neighbors = get_neighbors(current_state)\n",
        "        best_neighbor = None\n",
        "        best_heuristic = current_heuristic\n",
        "\n",
        "        for neighbor in neighbors:\n",
        "            heuristic = calculate_heuristic(neighbor)\n",
        "            if heuristic > best_heuristic:  # Looking for maximum heuristic (minimizing F2)\n",
        "                best_neighbor = neighbor\n",
        "                best_heuristic = heuristic\n",
        "\n",
        "        if best_heuristic <= current_heuristic:  # No improvement\n",
        "            break\n",
        "\n",
        "        current_state = best_neighbor\n",
        "        current_heuristic = best_heuristic\n",
        "\n",
        "    return current_state, -(current_heuristic)  # Return final state and function value\n",
        "\n",
        "# Example Usage\n",
        "if __name__ == \"__main__\":\n",
        "    # Define the problem size\n",
        "    n = 5  # Dimension of the input vector\n",
        "\n",
        "    # Generate a random initial state\n",
        "    initial_state = [random.randint(-10, 10) for _ in range(n)]\n",
        "\n",
        "    # Solve using Hill Climbing\n",
        "    solution, function_value = hill_climbing(initial_state)\n",
        "\n",
        "    # Print results\n",
        "    print(\"Initial State:\", initial_state)\n",
        "    print(\"Solution State:\", solution)\n",
        "    print(\"Function Value (Minimized):\", function_value)\n"
      ],
      "metadata": {
        "colab": {
          "base_uri": "https://localhost:8080/"
        },
        "id": "v4lv8FXlDLzV",
        "outputId": "66c39229-7e72-4030-faf3-4f01d05216df"
      },
      "execution_count": null,
      "outputs": [
        {
          "output_type": "stream",
          "name": "stdout",
          "text": [
            "Initial State: [-7, 4, 3, 9, 9]\n",
            "Solution State: [0, 0, 0, 0, 0]\n",
            "Function Value (Minimized): 0\n"
          ]
        }
      ]
    },
    {
      "cell_type": "code",
      "source": [
        "import random\n",
        "import csv\n",
        "import math\n",
        "import pandas as pd\n",
        "\n",
        "def hill_climbing(objective_function, start_point, step_size, max_iterations):\n",
        "    current_point = start_point\n",
        "    current_value = objective_function(current_point)\n",
        "    results = []\n",
        "\n",
        "    for iteration in range(max_iterations):\n",
        "        neighbor = [x + random.uniform(-step_size, step_size) for x in current_point]\n",
        "        neighbor_value = objective_function(neighbor)\n",
        "\n",
        "        if neighbor_value > current_value:\n",
        "            current_point = neighbor\n",
        "            current_value = neighbor_value\n",
        "\n",
        "        results.append((iteration + 1, current_point, current_value))\n",
        "\n",
        "    return current_point, current_value, results\n",
        "\n",
        "def genetic_algorithm(objective_function, population_size, generations, mutation_rate, bounds):\n",
        "    def initialize_population():\n",
        "        return [[random.uniform(bounds[d][0], bounds[d][1]) for d in range(len(bounds))] for _ in range(population_size)]\n",
        "\n",
        "    def mutate(individual):\n",
        "        return [\n",
        "            x + random.uniform(-1, 1) if random.random() < mutation_rate else x\n",
        "            for x in individual\n",
        "        ]\n",
        "\n",
        "    def crossover(parent1, parent2):\n",
        "        return [(x + y) / 2 for x, y in zip(parent1, parent2)]\n",
        "\n",
        "    population = initialize_population()\n",
        "    history = []\n",
        "\n",
        "    for generation in range(generations):\n",
        "        fitness = [objective_function(ind) for ind in population]\n",
        "        sorted_population = [x for _, x in sorted(zip(fitness, population), reverse=True)]\n",
        "\n",
        "        new_population = []\n",
        "        for i in range(0, population_size, 2):\n",
        "            parent1, parent2 = sorted_population[i], sorted_population[i + 1]\n",
        "            child1, child2 = crossover(parent1, parent2), crossover(parent2, parent1)\n",
        "            new_population.extend([mutate(child1), mutate(child2)])\n",
        "\n",
        "        population = new_population[:population_size]\n",
        "        best_individual = population[0]\n",
        "        best_fitness = objective_function(best_individual)\n",
        "        history.append(best_fitness)\n",
        "\n",
        "    return best_individual, best_fitness, history\n",
        "\n",
        "def F1(X):\n",
        "    return sum(x**2 for x in X)\n",
        "\n",
        "def F2(X):\n",
        "    abs_X = [abs(x) for x in X]\n",
        "    return sum(abs_X) + math.prod(abs_X)\n",
        "\n",
        "def F3(X):\n",
        "    return sum(sum(X[:i+1])**2 for i in range(len(X)))\n",
        "\n",
        "def F8(X):\n",
        "    return sum(x * math.sin(math.sqrt(abs(x))) for x in X)\n",
        "\n",
        "def F16(X):\n",
        "    x1, x2 = X[0], X[1]\n",
        "    return 4 * x1*2 - 2.1 * x14 + (1/3) * x16 + x1 * x2 - 4 * x22 + 4 * x2*4\n",
        "\n",
        "if __name__ == \"_main_\":\n",
        "    step_size = 0.1\n",
        "    max_iterations = 100\n",
        "    population_size = 20\n",
        "    generations = 50\n",
        "    mutation_rate = 0.1\n",
        "\n",
        "    functions = {\n",
        "        \"F1\": (F1, [[-100, 100]] * 2),\n",
        "        \"F2\": (F2, [[-10, 10]] * 2),\n",
        "        \"F3\": (F3, [[-10, 10]] * 2),\n",
        "        \"F8\": (F8, [[-500, 500]] * 2),\n",
        "        \"F16\": (F16, [[-5, 5], [-5, 5]])\n",
        "    }\n",
        "\n",
        "    for name, (func, bounds) in functions.items():\n",
        "        print(f\"\\nOptimizing {name}...\")\n",
        "\n",
        "        # Hill Climbing\n",
        "        start_point = [random.uniform(b[0], b[1]) for b in bounds]\n",
        "        hc_best_point, hc_best_value, hc_results = hill_climbing(lambda x: -func(x), start_point, step_size, max_iterations)\n",
        "        print(f\"{name} Hill Climbing: Best Point: {hc_best_point}, Best Value: {hc_best_value:.4f}\")\n",
        "\n",
        "        # Save Hill Climbing results\n",
        "        hc_filename_csv = f\"hill_climbing_results_{name}.csv\"\n",
        "        hc_filename_xlsx = f\"hill_climbing_results_{name}.xlsx\"\n",
        "        with open(hc_filename_csv, 'w', newline='') as csvfile:\n",
        "            writer = csv.writer(csvfile)\n",
        "            writer.writerow([\"Iteration\", \"Point\", \"Value\"])\n",
        "            writer.writerows([(i, p, v) for i, p, v in hc_results])\n",
        "        pd.DataFrame(hc_results, columns=[\"Iteration\", \"Point\", \"Value\"]).to_excel(hc_filename_xlsx, index=False)\n",
        "\n",
        "        # Genetic Algorithm\n",
        "        ga_best_individual, ga_best_fitness, ga_history = genetic_algorithm(lambda x: -func(x), population_size, generations, mutation_rate, bounds)\n",
        "        print(f\"{name} Genetic Algorithm: Best Individual: {ga_best_individual}, Best Fitness: {ga_best_fitness:.4f}\")\n",
        "\n",
        "        # Save Genetic Algorithm results\n",
        "        ga_filename_csv = f\"genetic_algorithm_results_{name}.csv\"\n",
        "        ga_filename_xlsx = f\"genetic_algorithm_results_{name}.xlsx\"\n",
        "        ga_history_data = [(i + 1, fitness) for i, fitness in enumerate(ga_history)]\n",
        "        with open(ga_filename_csv, 'w', newline='') as csvfile:\n",
        "            writer = csv.writer(csvfile)\n",
        "            writer.writerow([\"Generation\", \"Best Fitness\"])\n",
        "            writer.writerows(ga_history_data)\n",
        "        pd.DataFrame(ga_history_data, columns=[\"Generation\", \"Best Fitness\"]).to_excel(ga_filename_xlsx, index=False)\n",
        "\n",
        "    print(\"\\nOptimization complete. Results saved to CSV and Excel files.\")"
      ],
      "metadata": {
        "id": "kk0ZFL4dFiyc"
      },
      "execution_count": null,
      "outputs": []
    },
    {
      "source": [
        "import random\n",
        "import math\n",
        "import csv\n",
        "from datetime import datetime\n",
        "\n",
        "\n",
        "def hill_climbing(start_x, step_size=0.1, max_iterations=10):\n",
        "    current_x = start_x\n",
        "    current_value = objective_function(current_x)\n",
        "\n",
        "    # Create a list to store results\n",
        "    results = [['Iteration', 'X Value', 'Function Value']]\n",
        "    results.append(['Start', f\"{start_x:.4f}\", f\"{current_value:.4f}\"])\n",
        "\n",
        "    for i in range(max_iterations):\n",
        "        # Generate neighbors\n",
        "        left_neighbor = current_x - step_size\n",
        "        right_neighbor = current_x + step_size\n",
        "\n",
        "        # Evaluate neighbors\n",
        "        left_value = objective_function(left_neighbor)\n",
        "        right_value = objective_function(right_neighbor)\n",
        "\n",
        "        # Find the best neighbor\n",
        "        if left_value > current_value and left_value >= right_value:\n",
        "            current_x = left_neighbor\n",
        "            current_value = left_value\n",
        "        elif right_value > current_value:\n",
        "            current_x = right_neighbor\n",
        "            current_value = right_value\n",
        "        else:\n",
        "            # If no better neighbors, we've reached a peak\n",
        "            break\n",
        "\n",
        "        print(f\"Iteration {i+1}: x = {current_x:.4f}, f(x) = {current_value:.4f}\")\n",
        "        results.append([f\"Iteration {i+1}\", f\"{current_x:.4f}\", f\"{current_value:.4f}\"])\n",
        "\n",
        "    # Save results to CSV\n",
        "    timestamp = datetime.now().strftime(\"%Y%m%d_%H%M%S\") # This line was incorrectly indented\n",
        "    filename = f\"hillclimb_results_{timestamp}.csv\"\n",
        "    with open(filename, 'w', newline='') as file:\n",
        "        writer = csv.writer(file)\n",
        "        writer.writerows(results)\n",
        "        writer.writerow([])  # Empty row\n",
        "        writer.writerow(['Final Results'])\n",
        "        writer.writerow(['Best X', 'Best Value'])\n",
        "        writer.writerow([f\"{current_x:.4f}\", f\"{current_value:.4f}\"])\n",
        "\n",
        "        print(f\"\\nResults saved to {filename}\")\n",
        "    return current_x, current_value\n",
        "\n",
        "\n",
        "def main():\n",
        "    # Starting point\n",
        "    start_x = random.uniform(-5, 5)\n",
        "\n",
        "    print(\"Simple Hill Climbing Algorithm\")\n",
        "    print(\"-\" * 30)\n",
        "    print(f\"Starting point: x = 10\")\n",
        "\n",
        "    # Run hill climbing\n",
        "    best_x, best_value = hill_climbing(10)\n",
        "\n",
        "    print(\"\\nResults:\")\n",
        "    print(f\"Best x found: {best_x:.4f}\")\n",
        "    print(f\"Best value found: {best_value:.4f}\")\n",
        "\n",
        "\n",
        "def objective_function(x):\n",
        "    return x**2\n",
        "\n",
        "\n",
        "main()"
      ],
      "cell_type": "code",
      "metadata": {
        "colab": {
          "base_uri": "https://localhost:8080/"
        },
        "id": "RnIgZl6fFqGP",
        "outputId": "2fc9371e-30fd-4b7d-d85f-8ba90e46e061"
      },
      "execution_count": null,
      "outputs": [
        {
          "output_type": "stream",
          "name": "stdout",
          "text": [
            "Simple Hill Climbing Algorithm\n",
            "------------------------------\n",
            "Starting point: x = 10\n",
            "Iteration 1: x = 10.1000, f(x) = 102.0100\n",
            "Iteration 2: x = 10.2000, f(x) = 104.0400\n",
            "Iteration 3: x = 10.3000, f(x) = 106.0900\n",
            "Iteration 4: x = 10.4000, f(x) = 108.1600\n",
            "Iteration 5: x = 10.5000, f(x) = 110.2500\n",
            "Iteration 6: x = 10.6000, f(x) = 112.3600\n",
            "Iteration 7: x = 10.7000, f(x) = 114.4900\n",
            "Iteration 8: x = 10.8000, f(x) = 116.6400\n",
            "Iteration 9: x = 10.9000, f(x) = 118.8100\n",
            "Iteration 10: x = 11.0000, f(x) = 121.0000\n",
            "\n",
            "Results saved to hillclimb_results_20250127_184707.csv\n",
            "\n",
            "Results:\n",
            "Best x found: 11.0000\n",
            "Best value found: 121.0000\n"
          ]
        }
      ]
    },
    {
      "cell_type": "code",
      "source": [
        "def objective_function(x):\n",
        "    return (x + 0.5)**2\n",
        "main()"
      ],
      "metadata": {
        "colab": {
          "base_uri": "https://localhost:8080/"
        },
        "id": "9MiiixIFFL6Z",
        "outputId": "0c64a85c-7942-4acd-bf9b-f7c47afc9fde"
      },
      "execution_count": null,
      "outputs": [
        {
          "output_type": "stream",
          "name": "stdout",
          "text": [
            "Simple Hill Climbing Algorithm\n",
            "------------------------------\n",
            "Starting point: x = 10\n",
            "Iteration 1: x = 10.1000, f(x) = 112.3600\n",
            "Iteration 2: x = 10.2000, f(x) = 114.4900\n",
            "Iteration 3: x = 10.3000, f(x) = 116.6400\n",
            "Iteration 4: x = 10.4000, f(x) = 118.8100\n",
            "Iteration 5: x = 10.5000, f(x) = 121.0000\n",
            "Iteration 6: x = 10.6000, f(x) = 123.2100\n",
            "Iteration 7: x = 10.7000, f(x) = 125.4400\n",
            "Iteration 8: x = 10.8000, f(x) = 127.6900\n",
            "Iteration 9: x = 10.9000, f(x) = 129.9600\n",
            "Iteration 10: x = 11.0000, f(x) = 132.2500\n",
            "\n",
            "Results saved to hillclimb_results_20250127_184757.csv\n",
            "\n",
            "Results:\n",
            "Best x found: 11.0000\n",
            "Best value found: 132.2500\n"
          ]
        }
      ]
    },
    {
      "cell_type": "code",
      "source": [
        "def objective_function(x):\n",
        "    return abs(x) + abs(x)\n",
        "main()"
      ],
      "metadata": {
        "colab": {
          "base_uri": "https://localhost:8080/"
        },
        "id": "BV4gFVs1F4IM",
        "outputId": "43068931-00b9-4cdf-fa31-9d6da5789848"
      },
      "execution_count": null,
      "outputs": [
        {
          "output_type": "stream",
          "name": "stdout",
          "text": [
            "Simple Hill Climbing Algorithm\n",
            "------------------------------\n",
            "Starting point: x = 10\n",
            "Iteration 1: x = 10.1000, f(x) = 20.2000\n",
            "Iteration 2: x = 10.2000, f(x) = 20.4000\n",
            "Iteration 3: x = 10.3000, f(x) = 20.6000\n",
            "Iteration 4: x = 10.4000, f(x) = 20.8000\n",
            "Iteration 5: x = 10.5000, f(x) = 21.0000\n",
            "Iteration 6: x = 10.6000, f(x) = 21.2000\n",
            "Iteration 7: x = 10.7000, f(x) = 21.4000\n",
            "Iteration 8: x = 10.8000, f(x) = 21.6000\n",
            "Iteration 9: x = 10.9000, f(x) = 21.8000\n",
            "Iteration 10: x = 11.0000, f(x) = 22.0000\n",
            "\n",
            "Results saved to hillclimb_results_20250127_184811.csv\n",
            "\n",
            "Results:\n",
            "Best x found: 11.0000\n",
            "Best value found: 22.0000\n"
          ]
        }
      ]
    },
    {
      "cell_type": "code",
      "source": [
        "def objective_function(x):\n",
        "    return -x * math.sin(math.sqrt(abs(x)))\n",
        "main()"
      ],
      "metadata": {
        "colab": {
          "base_uri": "https://localhost:8080/"
        },
        "id": "G6DUmcI0F7dQ",
        "outputId": "34865c32-d0d4-465b-84cf-598357bcb4c9"
      },
      "execution_count": null,
      "outputs": [
        {
          "output_type": "stream",
          "name": "stdout",
          "text": [
            "Simple Hill Climbing Algorithm\n",
            "------------------------------\n",
            "Starting point: x = 10\n",
            "Iteration 1: x = 10.1000, f(x) = 0.3681\n",
            "Iteration 2: x = 10.2000, f(x) = 0.5317\n",
            "Iteration 3: x = 10.3000, f(x) = 0.6975\n",
            "Iteration 4: x = 10.4000, f(x) = 0.8654\n",
            "Iteration 5: x = 10.5000, f(x) = 1.0355\n",
            "Iteration 6: x = 10.6000, f(x) = 1.2076\n",
            "Iteration 7: x = 10.7000, f(x) = 1.3817\n",
            "Iteration 8: x = 10.8000, f(x) = 1.5578\n",
            "Iteration 9: x = 10.9000, f(x) = 1.7357\n",
            "Iteration 10: x = 11.0000, f(x) = 1.9155\n",
            "\n",
            "Results saved to hillclimb_results_20250127_184825.csv\n",
            "\n",
            "Results:\n",
            "Best x found: 11.0000\n",
            "Best value found: 1.9155\n"
          ]
        }
      ]
    },
    {
      "cell_type": "code",
      "source": [
        "def objective_function(X):\n",
        "    a = [1, 2, 3, 4, 5, 6, 7, 8, 9, 10, 11]\n",
        "    b = [1, 2, 3, 4, 5, 6, 7, 8, 9, 10, 11]\n",
        "    x1, x2, x3, x4 = -5, -2, 3, 4\n",
        "    result = sum([(a_i - x1 * (b_i**2 + b_i * x2) / (b_i**2 + b_i * x3 + x4))**2 for a_i, b_i in zip(a, b)])\n",
        "    return result\n",
        "main()"
      ],
      "metadata": {
        "colab": {
          "base_uri": "https://localhost:8080/"
        },
        "id": "qS1hv9SnF-vJ",
        "outputId": "46a79c94-7c48-4494-b04f-473de9496483"
      },
      "execution_count": null,
      "outputs": [
        {
          "output_type": "stream",
          "name": "stdout",
          "text": [
            "Simple Hill Climbing Algorithm\n",
            "------------------------------\n",
            "Starting point: x = 10\n",
            "\n",
            "Results saved to hillclimb_results_20250127_184840.csv\n",
            "\n",
            "Results:\n",
            "Best x found: 10.0000\n",
            "Best value found: 863.4497\n"
          ]
        }
      ]
    },
    {
      "cell_type": "code",
      "source": [],
      "metadata": {
        "id": "1gqQq7qbGCR2"
      },
      "execution_count": null,
      "outputs": []
    }
  ]
}